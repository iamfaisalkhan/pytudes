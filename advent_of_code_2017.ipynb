{
 "cells": [
  {
   "cell_type": "markdown",
   "metadata": {},
   "source": [
    "### Advent of Code "
   ]
  },
  {
   "cell_type": "code",
   "execution_count": 1,
   "metadata": {},
   "outputs": [],
   "source": [
    "# Includes (Some includes inspired by Peter Norvig solution (https://github.com/norvig/pytudes))\n",
    "\n",
    "import os\n",
    "import urllib.request\n",
    "\n",
    "\n",
    "def Inputstr(day, year=2017): \n",
    "    \"The contents of this day's input file as a str.\"\n",
    "    return Input(day, year).read().rstrip('\\n')\n",
    "\n",
    "def Input(day, year=2017):\n",
    "    \"Open the day's input file\"\n",
    "    directory = 'data/advent{}/day{}/'.format(year, day)\n",
    "    filename = directory + 'input{}.txt'.format(day)\n",
    "    return open(filename)\n",
    "\n",
    "def mapt(fn, *arg):\n",
    "    return tuple(map(fn, *arg))\n",
    "\n",
    "def Atom(input):\n",
    "    \"Parse a str token into a number, or leave it as a str.\"\n",
    "    try:\n",
    "        return int(input)\n",
    "    except ValueError:\n",
    "        try:\n",
    "            return float(token)\n",
    "        except ValueError:\n",
    "            return token\n",
    "    \n",
    "def Vector(lines):\n",
    "    return mapt(Atom, lines.replace(',', ' ').split())\n",
    "\n",
    "def Array(input):\n",
    "    lines = input.splitlines()\n",
    "    return mapt(Vector, lines)\n",
    "\n",
    "def first(iterable, default = None):\n",
    "     return next(iter(iterable), default)\n"
   ]
  },
  {
   "cell_type": "code",
   "execution_count": 2,
   "metadata": {},
   "outputs": [],
   "source": [
    "assert mapt(int, '1234') == (1, 2, 3, 4)\n",
    "\n",
    "assert Array('''5 1 9 5\n",
    "7 5 3\n",
    "2 4 6 8''') == (\n",
    "                (5, 1, 9, 5), \n",
    "                (7, 5, 3),\n",
    "                (2, 4, 6, 8)\n",
    "               )\n",
    "\n",
    "assert first('abc') == first(['a', 'b', 'c']) == 'a'\n"
   ]
  },
  {
   "cell_type": "markdown",
   "metadata": {},
   "source": [
    "### --- Day 1: Inverse Captcha ---\n",
    "\n",
    "The captcha requires you to review a sequence of digits (your puzzle input) and find the sum of all digits that match the next digit in the list. The list is circular, so the digit after the last digit is the first digit in the list.\n",
    "\n",
    "For example:\n",
    "\n",
    "1122 produces a sum of 3 (1 + 2) because the first digit (1) matches the second digit and the third digit (2) matches the fourth digit.\n",
    "1111 produces 4 because each digit (all 1) matches the next.\n",
    "1234 produces 0 because no digit matches the next.\n",
    "91212129 produces 9 because the only digit that matches the next one is the last digit, 9.\n",
    "\n"
   ]
  },
  {
   "cell_type": "code",
   "execution_count": 3,
   "metadata": {},
   "outputs": [
    {
     "name": "stdout",
     "output_type": "stream",
     "text": [
      "1097\n"
     ]
    },
    {
     "data": {
      "text/plain": [
       "1097"
      ]
     },
     "execution_count": 3,
     "metadata": {},
     "output_type": "execute_result"
    }
   ],
   "source": [
    "def inverse_captcha(input):\n",
    "    d = input[0]\n",
    "    n = len(input)\n",
    "    s = 0\n",
    "    for ad in input[1:]:\n",
    "        if ad == d:\n",
    "            s += (ord(ad) - 48)\n",
    "        d = ad\n",
    "        \n",
    "    if input[n-1] == input[0]:\n",
    "        s += (ord(input[n-1]) - 48)\n",
    "    \n",
    "    return s\n",
    "\n",
    "input = Inputstr(1)\n",
    "N = len(input)\n",
    "\n",
    "print (inverse_captcha(input))\n",
    "\n",
    "digits = mapt(int, input)\n",
    "sum(digits[i] for i in range(N) if digits[i] == digits[i - 1])\n"
   ]
  },
  {
   "cell_type": "markdown",
   "metadata": {},
   "source": [
    "#### Part 2\n",
    "\n",
    "Now, instead of considering the next digit, it wants you to consider the digit halfway around the circular list. That is, if your list contains 10 items, only include a digit in your sum if the digit 10/2 = 5 steps forward matches it. Fortunately, your list has an even number of elements.\n"
   ]
  },
  {
   "cell_type": "code",
   "execution_count": 4,
   "metadata": {},
   "outputs": [
    {
     "name": "stdout",
     "output_type": "stream",
     "text": [
      "1188\n"
     ]
    },
    {
     "data": {
      "text/plain": [
       "1188"
      ]
     },
     "execution_count": 4,
     "metadata": {},
     "output_type": "execute_result"
    }
   ],
   "source": [
    "def inverse_captcha_halfway(input):\n",
    "    n = len(input)\n",
    "    h = int (n / 2)\n",
    "    the_sum = 0\n",
    "    for i in range(n):\n",
    "        if input[i] == input[ (i+h) % n]:\n",
    "            the_sum += (ord(input[i]) - 48)\n",
    "    \n",
    "    return the_sum\n",
    "\n",
    "\n",
    "input = Inputstr(1)\n",
    "N = len(input)\n",
    "\n",
    "print (inverse_captcha_halfway(input))\n",
    "\n",
    "# Norvig version\n",
    "digits = mapt(int, input)\n",
    "\n",
    "sum(digits[i] for i in range(N) if digits[i] == digits[ i - N // 2])"
   ]
  },
  {
   "cell_type": "markdown",
   "metadata": {},
   "source": [
    "### Day 2: Checksum"
   ]
  },
  {
   "cell_type": "code",
   "execution_count": 5,
   "metadata": {},
   "outputs": [
    {
     "data": {
      "text/plain": [
       "51139"
      ]
     },
     "execution_count": 5,
     "metadata": {},
     "output_type": "execute_result"
    }
   ],
   "source": [
    "d = Array(Inputstr(2))\n",
    "\n",
    "sum(max(t) - min(t) for t in d)"
   ]
  },
  {
   "cell_type": "markdown",
   "metadata": {},
   "source": [
    "### Part 2\n",
    "\n",
    "It sounds like the goal is to find the only two numbers in each row where one evenly divides the other - that is, where the result of the division operation is a whole number. They would like you to find those numbers on each line, divide them, and add up each line's result.\n",
    "\n"
   ]
  },
  {
   "cell_type": "code",
   "execution_count": 6,
   "metadata": {},
   "outputs": [
    {
     "data": {
      "text/plain": [
       "3"
      ]
     },
     "execution_count": 6,
     "metadata": {},
     "output_type": "execute_result"
    }
   ],
   "source": [
    "3 % 6"
   ]
  },
  {
   "cell_type": "code",
   "execution_count": 16,
   "metadata": {},
   "outputs": [
    {
     "name": "stdout",
     "output_type": "stream",
     "text": [
      "18\n",
      "[4]\n",
      "[3]\n",
      "[4, 2, 3, 2]\n"
     ]
    },
    {
     "data": {
      "text/plain": [
       "18"
      ]
     },
     "execution_count": 16,
     "metadata": {},
     "output_type": "execute_result"
    }
   ],
   "source": [
    "data = Array('''5 9 2 8\n",
    "9 4 7 3\n",
    "3 12 6 4\n",
    "''')\n",
    "\n",
    "# data = Array(Inputstr(2))\n",
    "\n",
    "tsum = 0\n",
    "for row in data:\n",
    "    for i in range(len(row)):\n",
    "        for j in range(i+1, len(row)):\n",
    "            a, b = row[i], row[j]\n",
    "            if a >= b and a % b == 0:\n",
    "                tsum += (a // b)\n",
    "            elif b % a == 0:\n",
    "                tsum += (b // a)\n",
    "\n",
    "print (tsum)    \n",
    "\n",
    "# Norvig solution, however it only considers first pair that are divisible as whole. \n",
    "# Note: Just replacing first with sum in evendiv funciton fix this. \n",
    "\n",
    "def evendiv(row):\n",
    "#     print(list(a // b for a in row for b in row if a > b and a // b == a / b))\n",
    "    return sum(a // b for a in row for b in row if a > b and a // b == a / b)\n",
    "    \n",
    "sum(map(evendiv, data))"
   ]
  },
  {
   "cell_type": "markdown",
   "metadata": {},
   "source": [
    "### Day 3 Spiral Memory\n",
    "\n",
    "You come across an experimental new kind of memory stored on an infinite two-dimensional grid.\n",
    "\n",
    "Each square on the grid is allocated in a spiral pattern starting at a location marked 1 and then counting up while spiraling outward. For example, the first few squares are allocated like this:\n",
    "\n",
    "<pre>\n",
    "17  16  15  14  13\n",
    "18   5   4   3  12\n",
    "19   6   1   2  11\n",
    "20   7   8   9  10\n",
    "21  22  23---> ...\n",
    "</pre>\n",
    "\n",
    "While this is very space-efficient (no squares are skipped), requested data must be carried back to square 1 (the location of the only access port for this memory system) by programs that can only move up, down, left, or right. They always take the shortest path: the Manhattan Distance between the location of the data and square 1.\n",
    "\n",
    "For example:\n",
    "\n",
    "* Data from square **1** is carried **0 steps**, since it's at the access port.\n",
    "* Data from square **12** is carried **3 steps**, such as: down, left, left.\n",
    "* Data from square **23** is carried only **2 steps**: up twice.\n",
    "* Data from square **1024** must be carried **31 steps**.\n",
    "\n",
    "How many steps are required to carry the data from the square identified in your puzzle input all the way to the access port?"
   ]
  },
  {
   "cell_type": "code",
   "execution_count": null,
   "metadata": {},
   "outputs": [],
   "source": [
    "goal = 23\n",
    "\n",
    "navs = ((1, 0), (0, 1), (-1, 0), (0, -1))\n",
    "limit = 1\n",
    "cnt = 0\n",
    "\n",
    "start = (0, 0)\n",
    "node = 1\n",
    "\n",
    "while node != goal:\n",
    "    for nav in navs:\n",
    "        x, y = nav\n",
    "        cx, cy = start\n",
    "        i = 0\n",
    "        while i < limit:\n",
    "            cx, cy = cx + x, cy + y\n",
    "            i += 1\n",
    "            node += 1\n",
    "            \n",
    "            "
   ]
  }
 ],
 "metadata": {
  "kernelspec": {
   "display_name": "pytudes",
   "language": "python",
   "name": "pytudes"
  },
  "language_info": {
   "codemirror_mode": {
    "name": "ipython",
    "version": 3
   },
   "file_extension": ".py",
   "mimetype": "text/x-python",
   "name": "python",
   "nbconvert_exporter": "python",
   "pygments_lexer": "ipython3",
   "version": "3.6.4"
  }
 },
 "nbformat": 4,
 "nbformat_minor": 2
}
