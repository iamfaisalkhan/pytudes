{
 "cells": [
  {
   "cell_type": "markdown",
   "metadata": {},
   "source": [
    "### Advent of Code "
   ]
  },
  {
   "cell_type": "code",
   "execution_count": 59,
   "metadata": {},
   "outputs": [],
   "source": [
    "# Includes (Some includes inspired by Peter Norvig solution (https://github.com/norvig/pytudes))\n",
    "\n",
    "import os\n",
    "import urllib.request\n",
    "\n",
    "\n",
    "def Inputstr(day, year=2017): \n",
    "    \"The contents of this day's input file as a str.\"\n",
    "    return Input(day, year).read().rstrip('\\n')\n",
    "\n",
    "def Input(day, year=2017):\n",
    "    \"Open the day's input file\"\n",
    "    directory = 'data/advent{}/day{}/'.format(year, day)\n",
    "    filename = directory + 'input{}.txt'.format(day)\n",
    "    return open(filename)\n",
    "\n",
    "def mapt(fn, *arg):\n",
    "    return tuple(map(fn, *arg))\n",
    "\n",
    "def Atom(input):\n",
    "    \"Parse a str token into a number, or leave it as a str.\"\n",
    "    try:\n",
    "        return int(input)\n",
    "    except ValueError:\n",
    "        try:\n",
    "            return float(token)\n",
    "        except ValueError:\n",
    "            return token\n",
    "    \n",
    "def Vector(lines):\n",
    "    return mapt(Atom, lines.replace(',', ' ').split())\n",
    "\n",
    "def Array(input):\n",
    "    lines = input.splitlines()\n",
    "    return mapt(Vector, lines)\n"
   ]
  },
  {
   "cell_type": "code",
   "execution_count": 73,
   "metadata": {},
   "outputs": [],
   "source": [
    "assert mapt(int, '1234') == (1, 2, 3, 4)\n",
    "\n",
    "assert Array('''5 1 9 5\n",
    "7 5 3\n",
    "2 4 6 8''') == (\n",
    "                (5, 1, 9, 5), \n",
    "                (7, 5, 3),\n",
    "                (2, 4, 6, 8)\n",
    "               )\n",
    "\n"
   ]
  },
  {
   "cell_type": "markdown",
   "metadata": {},
   "source": [
    "### --- Day 1: Inverse Captcha ---\n",
    "\n",
    "The captcha requires you to review a sequence of digits (your puzzle input) and find the sum of all digits that match the next digit in the list. The list is circular, so the digit after the last digit is the first digit in the list.\n",
    "\n",
    "For example:\n",
    "\n",
    "1122 produces a sum of 3 (1 + 2) because the first digit (1) matches the second digit and the third digit (2) matches the fourth digit.\n",
    "1111 produces 4 because each digit (all 1) matches the next.\n",
    "1234 produces 0 because no digit matches the next.\n",
    "91212129 produces 9 because the only digit that matches the next one is the last digit, 9.\n",
    "\n"
   ]
  },
  {
   "cell_type": "code",
   "execution_count": 42,
   "metadata": {},
   "outputs": [
    {
     "name": "stdout",
     "output_type": "stream",
     "text": [
      "1097\n"
     ]
    },
    {
     "data": {
      "text/plain": [
       "1097"
      ]
     },
     "execution_count": 42,
     "metadata": {},
     "output_type": "execute_result"
    }
   ],
   "source": [
    "def inverse_captcha(input):\n",
    "    d = input[0]\n",
    "    n = len(input)\n",
    "    s = 0\n",
    "    for ad in input[1:]:\n",
    "        if ad == d:\n",
    "            s += (ord(ad) - 48)\n",
    "        d = ad\n",
    "        \n",
    "    if input[n-1] == input[0]:\n",
    "        s += (ord(input[n-1]) - 48)\n",
    "    \n",
    "    return s\n",
    "\n",
    "input = Inputstr(1)\n",
    "N = len(input)\n",
    "\n",
    "print (inverse_captcha(input))\n",
    "\n",
    "digits = mapt(int, input)\n",
    "sum(digits[i] for i in range(N) if digits[i] == digits[i - 1])\n"
   ]
  },
  {
   "cell_type": "markdown",
   "metadata": {},
   "source": [
    "#### Part 2\n",
    "\n",
    "Now, instead of considering the next digit, it wants you to consider the digit halfway around the circular list. That is, if your list contains 10 items, only include a digit in your sum if the digit 10/2 = 5 steps forward matches it. Fortunately, your list has an even number of elements.\n"
   ]
  },
  {
   "cell_type": "code",
   "execution_count": 48,
   "metadata": {},
   "outputs": [
    {
     "name": "stdout",
     "output_type": "stream",
     "text": [
      "1188\n"
     ]
    },
    {
     "data": {
      "text/plain": [
       "1188"
      ]
     },
     "execution_count": 48,
     "metadata": {},
     "output_type": "execute_result"
    }
   ],
   "source": [
    "def inverse_captcha_halfway(input):\n",
    "    n = len(input)\n",
    "    h = int (n / 2)\n",
    "    the_sum = 0\n",
    "    for i in range(n):\n",
    "        if input[i] == input[ (i+h) % n]:\n",
    "            the_sum += (ord(input[i]) - 48)\n",
    "    \n",
    "    return the_sum\n",
    "\n",
    "\n",
    "input = Inputstr(1)\n",
    "N = len(input)\n",
    "\n",
    "print (inverse_captcha_halfway(input))\n",
    "\n",
    "# Norvig version\n",
    "digits = mapt(int, input)\n",
    "\n",
    "sum(digits[i] for i in range(N) if digits[i] == digits[ i - N // 2])"
   ]
  },
  {
   "cell_type": "markdown",
   "metadata": {},
   "source": [
    "### Day 2: Checksum"
   ]
  },
  {
   "cell_type": "code",
   "execution_count": 89,
   "metadata": {},
   "outputs": [
    {
     "data": {
      "text/plain": [
       "51139"
      ]
     },
     "execution_count": 89,
     "metadata": {},
     "output_type": "execute_result"
    }
   ],
   "source": [
    "d = Array(Inputstr(2))\n",
    "\n",
    "sum(max(t) - min(t) for t in d)"
   ]
  },
  {
   "cell_type": "code",
   "execution_count": null,
   "metadata": {},
   "outputs": [],
   "source": []
  }
 ],
 "metadata": {
  "kernelspec": {
   "display_name": "Python (AI)",
   "language": "python",
   "name": "ai"
  },
  "language_info": {
   "codemirror_mode": {
    "name": "ipython",
    "version": 3
   },
   "file_extension": ".py",
   "mimetype": "text/x-python",
   "name": "python",
   "nbconvert_exporter": "python",
   "pygments_lexer": "ipython3",
   "version": "3.6.3"
  }
 },
 "nbformat": 4,
 "nbformat_minor": 2
}
